{
  "metadata": {
    "language_info": {
      "codemirror_mode": {
        "name": "python",
        "version": 3
      },
      "file_extension": ".py",
      "mimetype": "text/x-python",
      "name": "python",
      "nbconvert_exporter": "python",
      "pygments_lexer": "ipython3",
      "version": "3.8"
    },
    "kernelspec": {
      "name": "python",
      "display_name": "Pyolite",
      "language": "python"
    }
  },
  "nbformat_minor": 4,
  "nbformat": 4,
  "cells": [
    {
      "cell_type": "markdown",
      "source": "Today's task:\n    q1: Try to print a prime number in between 1 to 1000\n    q2: Try to write a function which is equivalent to print function in python\n    q3: Try to write a function which is a replica of list append, extend and pop function\n    q4: Try to write a lambda function which can return a concatination of all the string that we will pass\n    q5: Try to write a lambda function which can return list of square of all the data between 1 to 100\n    q6: Try to write a 10 different different example of lambda function with a choice of your task\n    q7: Try to write a function which can perform a read operation from .txt file",
      "metadata": {}
    },
    {
      "cell_type": "markdown",
      "source": "Q1:Try to print a prime number in between 1 to 1000",
      "metadata": {}
    },
    {
      "cell_type": "code",
      "source": "for i in range(1,1000):\n    temp=0\n    for j in range(2,i):\n        if i%j==0:\n            temp=1\n            break\n    if temp==0:\n        print(i)",
      "metadata": {
        "trusted": true
      },
      "execution_count": 6,
      "outputs": [
        {
          "name": "stdout",
          "text": "1\n2\n3\n5\n7\n11\n13\n17\n19\n23\n29\n31\n37\n41\n43\n47\n53\n59\n61\n67\n71\n73\n79\n83\n89\n97\n101\n103\n107\n109\n113\n127\n131\n137\n139\n149\n151\n157\n163\n167\n173\n179\n181\n191\n193\n197\n199\n211\n223\n227\n229\n233\n239\n241\n251\n257\n263\n269\n271\n277\n281\n283\n293\n307\n311\n313\n317\n331\n337\n347\n349\n353\n359\n367\n373\n379\n383\n389\n397\n401\n409\n419\n421\n431\n433\n439\n443\n449\n457\n461\n463\n467\n479\n487\n491\n499\n503\n509\n521\n523\n541\n547\n557\n563\n569\n571\n577\n587\n593\n599\n601\n607\n613\n617\n619\n631\n641\n643\n647\n653\n659\n661\n673\n677\n683\n691\n701\n709\n719\n727\n733\n739\n743\n751\n757\n761\n769\n773\n787\n797\n809\n811\n821\n823\n827\n829\n839\n853\n857\n859\n863\n877\n881\n883\n887\n907\n911\n919\n929\n937\n941\n947\n953\n967\n971\n977\n983\n991\n997\n",
          "output_type": "stream"
        }
      ]
    },
    {
      "cell_type": "markdown",
      "source": "Q2: Try to write a function which is equivalent to print function in python",
      "metadata": {}
    },
    {
      "cell_type": "code",
      "source": "def print1(*args):\n    for i in args:\n        print(i, end=\" \")\n    print()\n    \n    \nn=[2,3,4,5]\nprint1(n,n)\nprint1(\"sangu\"+\"B\")",
      "metadata": {
        "trusted": true
      },
      "execution_count": 32,
      "outputs": [
        {
          "name": "stdout",
          "text": "[2, 3, 4, 5] [2, 3, 4, 5] \nsanguB \n",
          "output_type": "stream"
        }
      ]
    },
    {
      "cell_type": "markdown",
      "source": "Q3: Try to write a function which is a replica of list append, extend and pop function",
      "metadata": {}
    },
    {
      "cell_type": "code",
      "source": "def append(l,a):\n    l.append(a)\n    return l\n\ndef pop(l):\n    return l[0:len(l)-1]\n\ndef extend(l,e):\n    return l+e",
      "metadata": {
        "trusted": true
      },
      "execution_count": 85,
      "outputs": []
    },
    {
      "cell_type": "code",
      "source": "l=[1,2,3,4,5]\nprint(\"Current list\",l)\nl=pop(l)\nprint(\"Pop one element\",l)\nl=extend(l,[5,6,7])\nprint(\"Extend element : \",l)\nl=append(l,[8,9,10])\nprint(\"Append list\",l)",
      "metadata": {
        "trusted": true
      },
      "execution_count": 100,
      "outputs": [
        {
          "name": "stdout",
          "text": "Current list [1, 2, 3, 4, 5]\nPop one element [1, 2, 3, 4]\nExtend element :  [1, 2, 3, 4, 5, 6, 7]\nAppend list [1, 2, 3, 4, 5, 6, 7, [8, 9, 10]]\n",
          "output_type": "stream"
        }
      ]
    },
    {
      "cell_type": "markdown",
      "source": "Q4: Try to write a lambda function which can return a concatination of all the string that we will pass",
      "metadata": {}
    },
    {
      "cell_type": "code",
      "source": "n=lambda *b : \"\".join(list(b))\nn(\"Data\",\"Science\")",
      "metadata": {
        "trusted": true
      },
      "execution_count": 159,
      "outputs": [
        {
          "execution_count": 159,
          "output_type": "execute_result",
          "data": {
            "text/plain": "'DataScience'"
          },
          "metadata": {}
        }
      ]
    },
    {
      "cell_type": "markdown",
      "source": "Q5: Try to write a lambda function which can return list of square of all the data between 1 to 100",
      "metadata": {}
    },
    {
      "cell_type": "code",
      "source": "n=lambda: [i**2 for i in range(1,100)]\nn()",
      "metadata": {
        "trusted": true
      },
      "execution_count": 161,
      "outputs": [
        {
          "execution_count": 161,
          "output_type": "execute_result",
          "data": {
            "text/plain": "[1,\n 4,\n 9,\n 16,\n 25,\n 36,\n 49,\n 64,\n 81,\n 100,\n 121,\n 144,\n 169,\n 196,\n 225,\n 256,\n 289,\n 324,\n 361,\n 400,\n 441,\n 484,\n 529,\n 576,\n 625,\n 676,\n 729,\n 784,\n 841,\n 900,\n 961,\n 1024,\n 1089,\n 1156,\n 1225,\n 1296,\n 1369,\n 1444,\n 1521,\n 1600,\n 1681,\n 1764,\n 1849,\n 1936,\n 2025,\n 2116,\n 2209,\n 2304,\n 2401,\n 2500,\n 2601,\n 2704,\n 2809,\n 2916,\n 3025,\n 3136,\n 3249,\n 3364,\n 3481,\n 3600,\n 3721,\n 3844,\n 3969,\n 4096,\n 4225,\n 4356,\n 4489,\n 4624,\n 4761,\n 4900,\n 5041,\n 5184,\n 5329,\n 5476,\n 5625,\n 5776,\n 5929,\n 6084,\n 6241,\n 6400,\n 6561,\n 6724,\n 6889,\n 7056,\n 7225,\n 7396,\n 7569,\n 7744,\n 7921,\n 8100,\n 8281,\n 8464,\n 8649,\n 8836,\n 9025,\n 9216,\n 9409,\n 9604,\n 9801]"
          },
          "metadata": {}
        }
      ]
    },
    {
      "cell_type": "markdown",
      "source": "Q6: Try to write a 10 different different example of lambda function with a choice of your task",
      "metadata": {}
    },
    {
      "cell_type": "code",
      "source": "##Addition\nn=lambda a,b: a+b  ##Addition of two numbers\nn=lambda a: [a*i for i in range(1,11)]  ##Muliplication table for given value\nn=lambda **kwargs: [type(kwargs[i])==str for i in kwargs].count(True) ##How many values are of string type in (a=7,b=\"sudh\",c=345, d=\"sudh\",l=[2,3,4,5])\n",
      "metadata": {},
      "execution_count": null,
      "outputs": []
    },
    {
      "cell_type": "markdown",
      "source": "q7: Try to write a function which can perform a read operation from .txt file",
      "metadata": {}
    },
    {
      "cell_type": "code",
      "source": "##Performing the opening file first because I'm\nf = open(\"demofile2.txt\", \"a\")\nf.write(\"Now the file has more content!\")\nf.close()",
      "metadata": {
        "trusted": true
      },
      "execution_count": 195,
      "outputs": []
    },
    {
      "cell_type": "code",
      "source": "f = open(\"demofile2.txt\", \"r\")\nprint(f.read())\nf.close()",
      "metadata": {
        "trusted": true
      },
      "execution_count": 196,
      "outputs": [
        {
          "name": "stdout",
          "text": "Now the file has more content!\n",
          "output_type": "stream"
        }
      ]
    },
    {
      "cell_type": "code",
      "source": "",
      "metadata": {},
      "execution_count": null,
      "outputs": []
    },
    {
      "cell_type": "code",
      "source": "",
      "metadata": {},
      "execution_count": null,
      "outputs": []
    }
  ]
}